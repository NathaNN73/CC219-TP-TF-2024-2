{
 "cells": [
  {
   "cell_type": "code",
   "execution_count": 31,
   "metadata": {
    "id": "c1aQrb-k3IGQ"
   },
   "outputs": [],
   "source": [
    "import spacy\n",
    "import pandas as pd"
   ]
  },
  {
   "cell_type": "markdown",
   "metadata": {
    "id": "xY0qnHAE7ydW"
   },
   "source": [
    "## TRATAMIENTO DE DATOS"
   ]
  },
  {
   "cell_type": "code",
   "execution_count": 10,
   "metadata": {},
   "outputs": [],
   "source": [
    "df_film = pd.read_csv(\"../data/film_reviews_result/film_reviews_result.csv\", sep = \"|\")"
   ]
  },
  {
   "cell_type": "code",
   "execution_count": 11,
   "metadata": {
    "id": "-t2pEAvQ4nmH"
   },
   "outputs": [],
   "source": [
    "df_filmafinity = pd.read_csv(\"../data/reviews_filmaffinity/reviews_filmaffinity.csv\", sep=r\"\\s*\\|\\|\\s*\", engine='python')"
   ]
  },
  {
   "cell_type": "code",
   "execution_count": 12,
   "metadata": {
    "colab": {
     "base_uri": "https://localhost:8080/",
     "height": 293
    },
    "id": "IVDAtjJ85Ub9",
    "outputId": "c659c63e-9309-48eb-b98f-f020ef125c7e"
   },
   "outputs": [
    {
     "data": {
      "text/html": [
       "<div>\n",
       "<style scoped>\n",
       "    .dataframe tbody tr th:only-of-type {\n",
       "        vertical-align: middle;\n",
       "    }\n",
       "\n",
       "    .dataframe tbody tr th {\n",
       "        vertical-align: top;\n",
       "    }\n",
       "\n",
       "    .dataframe thead th {\n",
       "        text-align: right;\n",
       "    }\n",
       "</style>\n",
       "<table border=\"1\" class=\"dataframe\">\n",
       "  <thead>\n",
       "    <tr style=\"text-align: right;\">\n",
       "      <th></th>\n",
       "      <th>film_name</th>\n",
       "      <th>gender</th>\n",
       "      <th>film_avg_rate</th>\n",
       "      <th>review_rate</th>\n",
       "      <th>review_title</th>\n",
       "      <th>review_text</th>\n",
       "    </tr>\n",
       "  </thead>\n",
       "  <tbody>\n",
       "    <tr>\n",
       "      <th>0</th>\n",
       "      <td>Respira (Serie de TV)</td>\n",
       "      <td>Serie de TV, Drama, Medicina</td>\n",
       "      <td>4,6</td>\n",
       "      <td>1</td>\n",
       "      <td>Respira</td>\n",
       "      <td>Como fan de las series españolas y de Najwa, e...</td>\n",
       "    </tr>\n",
       "    <tr>\n",
       "      <th>1</th>\n",
       "      <td>Respira (Serie de TV)</td>\n",
       "      <td>Serie de TV, Drama, Medicina</td>\n",
       "      <td>4,6</td>\n",
       "      <td>2</td>\n",
       "      <td>Esta serie te llama tonto a la cara</td>\n",
       "      <td>Todo lo malo que puede tener una serie lo pose...</td>\n",
       "    </tr>\n",
       "    <tr>\n",
       "      <th>2</th>\n",
       "      <td>Respira (Serie de TV)</td>\n",
       "      <td>Serie de TV, Drama, Medicina</td>\n",
       "      <td>4,6</td>\n",
       "      <td>1</td>\n",
       "      <td>Respira</td>\n",
       "      <td>La serie es un drama médico que intenta \"copia...</td>\n",
       "    </tr>\n",
       "    <tr>\n",
       "      <th>3</th>\n",
       "      <td>Respira (Serie de TV)</td>\n",
       "      <td>Serie de TV, Drama, Medicina</td>\n",
       "      <td>4,6</td>\n",
       "      <td>1</td>\n",
       "      <td>Imposible, no hay manera</td>\n",
       "      <td>Nadie te obliga a ver nada que no quieras ver ...</td>\n",
       "    </tr>\n",
       "    <tr>\n",
       "      <th>4</th>\n",
       "      <td>Respira (Serie de TV)</td>\n",
       "      <td>Serie de TV, Drama, Medicina</td>\n",
       "      <td>4,6</td>\n",
       "      <td>1</td>\n",
       "      <td>Serie nefasta</td>\n",
       "      <td>Está serie da vergüenza ajena. Una serie donde...</td>\n",
       "    </tr>\n",
       "  </tbody>\n",
       "</table>\n",
       "</div>"
      ],
      "text/plain": [
       "               film_name                        gender film_avg_rate  \\\n",
       "0  Respira (Serie de TV)  Serie de TV, Drama, Medicina           4,6   \n",
       "1  Respira (Serie de TV)  Serie de TV, Drama, Medicina           4,6   \n",
       "2  Respira (Serie de TV)  Serie de TV, Drama, Medicina           4,6   \n",
       "3  Respira (Serie de TV)  Serie de TV, Drama, Medicina           4,6   \n",
       "4  Respira (Serie de TV)  Serie de TV, Drama, Medicina           4,6   \n",
       "\n",
       "   review_rate                         review_title  \\\n",
       "0            1                              Respira   \n",
       "1            2  Esta serie te llama tonto a la cara   \n",
       "2            1                              Respira   \n",
       "3            1             Imposible, no hay manera   \n",
       "4            1                        Serie nefasta   \n",
       "\n",
       "                                         review_text  \n",
       "0  Como fan de las series españolas y de Najwa, e...  \n",
       "1  Todo lo malo que puede tener una serie lo pose...  \n",
       "2  La serie es un drama médico que intenta \"copia...  \n",
       "3  Nadie te obliga a ver nada que no quieras ver ...  \n",
       "4  Está serie da vergüenza ajena. Una serie donde...  "
      ]
     },
     "execution_count": 12,
     "metadata": {},
     "output_type": "execute_result"
    }
   ],
   "source": [
    "df_film.head()"
   ]
  },
  {
   "cell_type": "code",
   "execution_count": 13,
   "metadata": {
    "colab": {
     "base_uri": "https://localhost:8080/",
     "height": 293
    },
    "id": "ZXp20syq5Gx8",
    "outputId": "cc2931fb-9889-4a19-f3fc-9f1e53124236"
   },
   "outputs": [
    {
     "data": {
      "text/html": [
       "<div>\n",
       "<style scoped>\n",
       "    .dataframe tbody tr th:only-of-type {\n",
       "        vertical-align: middle;\n",
       "    }\n",
       "\n",
       "    .dataframe tbody tr th {\n",
       "        vertical-align: top;\n",
       "    }\n",
       "\n",
       "    .dataframe thead th {\n",
       "        text-align: right;\n",
       "    }\n",
       "</style>\n",
       "<table border=\"1\" class=\"dataframe\">\n",
       "  <thead>\n",
       "    <tr style=\"text-align: right;\">\n",
       "      <th></th>\n",
       "      <th>film_name</th>\n",
       "      <th>gender</th>\n",
       "      <th>film_avg_rate</th>\n",
       "      <th>review_rate</th>\n",
       "      <th>review_title</th>\n",
       "      <th>review_text</th>\n",
       "    </tr>\n",
       "  </thead>\n",
       "  <tbody>\n",
       "    <tr>\n",
       "      <th>0</th>\n",
       "      <td>Ocho apellidos vascos</td>\n",
       "      <td>Comedia</td>\n",
       "      <td>6,0</td>\n",
       "      <td>3.0</td>\n",
       "      <td>OCHO APELLIDOS VASCOS...Y NINGÚN NOMBRE PROPIO</td>\n",
       "      <td>La mayor virtud de esta película es su existen...</td>\n",
       "    </tr>\n",
       "    <tr>\n",
       "      <th>1</th>\n",
       "      <td>Ocho apellidos vascos</td>\n",
       "      <td>Comedia</td>\n",
       "      <td>6,0</td>\n",
       "      <td>2.0</td>\n",
       "      <td>El perro verde</td>\n",
       "      <td>No soy un experto cinéfilo, pero pocas veces m...</td>\n",
       "    </tr>\n",
       "    <tr>\n",
       "      <th>2</th>\n",
       "      <td>Ocho apellidos vascos</td>\n",
       "      <td>Comedia</td>\n",
       "      <td>6,0</td>\n",
       "      <td>2.0</td>\n",
       "      <td>Si no eres de comer mierda... no te comas esta...</td>\n",
       "      <td>Si no eres un incondicional del humor estilo T...</td>\n",
       "    </tr>\n",
       "    <tr>\n",
       "      <th>3</th>\n",
       "      <td>Ocho apellidos vascos</td>\n",
       "      <td>Comedia</td>\n",
       "      <td>6,0</td>\n",
       "      <td>2.0</td>\n",
       "      <td>Aida: The movie</td>\n",
       "      <td>No sé qué está pasando, si la gente se deja ll...</td>\n",
       "    </tr>\n",
       "    <tr>\n",
       "      <th>4</th>\n",
       "      <td>Ocho apellidos vascos</td>\n",
       "      <td>Comedia</td>\n",
       "      <td>6,0</td>\n",
       "      <td>2.0</td>\n",
       "      <td>UN HOMBRE SOLO (Julio Iglesias 1987)</td>\n",
       "      <td>\"Pero cuando amanece,y me quedo solo,siento en...</td>\n",
       "    </tr>\n",
       "  </tbody>\n",
       "</table>\n",
       "</div>"
      ],
      "text/plain": [
       "               film_name   gender film_avg_rate  review_rate  \\\n",
       "0  Ocho apellidos vascos  Comedia           6,0          3.0   \n",
       "1  Ocho apellidos vascos  Comedia           6,0          2.0   \n",
       "2  Ocho apellidos vascos  Comedia           6,0          2.0   \n",
       "3  Ocho apellidos vascos  Comedia           6,0          2.0   \n",
       "4  Ocho apellidos vascos  Comedia           6,0          2.0   \n",
       "\n",
       "                                        review_title  \\\n",
       "0     OCHO APELLIDOS VASCOS...Y NINGÚN NOMBRE PROPIO   \n",
       "1                                     El perro verde   \n",
       "2  Si no eres de comer mierda... no te comas esta...   \n",
       "3                                    Aida: The movie   \n",
       "4               UN HOMBRE SOLO (Julio Iglesias 1987)   \n",
       "\n",
       "                                         review_text  \n",
       "0  La mayor virtud de esta película es su existen...  \n",
       "1  No soy un experto cinéfilo, pero pocas veces m...  \n",
       "2  Si no eres un incondicional del humor estilo T...  \n",
       "3  No sé qué está pasando, si la gente se deja ll...  \n",
       "4  \"Pero cuando amanece,y me quedo solo,siento en...  "
      ]
     },
     "execution_count": 13,
     "metadata": {},
     "output_type": "execute_result"
    }
   ],
   "source": [
    "df_filmafinity.head()"
   ]
  },
  {
   "cell_type": "code",
   "execution_count": 14,
   "metadata": {
    "id": "BAwTa_sp5UDW"
   },
   "outputs": [],
   "source": [
    "combined_df = pd.concat([df_film, df_filmafinity], ignore_index=True)"
   ]
  },
  {
   "cell_type": "code",
   "execution_count": 15,
   "metadata": {
    "colab": {
     "base_uri": "https://localhost:8080/"
    },
    "id": "TfFm2Leu6wdn",
    "outputId": "8ac573d3-c4a3-48d8-89c7-600b969a32ad"
   },
   "outputs": [
    {
     "name": "stdout",
     "output_type": "stream",
     "text": [
      "<class 'pandas.core.frame.DataFrame'>\n",
      "RangeIndex: 18661 entries, 0 to 18660\n",
      "Data columns (total 6 columns):\n",
      " #   Column         Non-Null Count  Dtype  \n",
      "---  ------         --------------  -----  \n",
      " 0   film_name      18661 non-null  object \n",
      " 1   gender         18661 non-null  object \n",
      " 2   film_avg_rate  18661 non-null  object \n",
      " 3   review_rate    18659 non-null  float64\n",
      " 4   review_title   18661 non-null  object \n",
      " 5   review_text    18661 non-null  object \n",
      "dtypes: float64(1), object(5)\n",
      "memory usage: 874.9+ KB\n"
     ]
    }
   ],
   "source": [
    "combined_df.info()"
   ]
  },
  {
   "cell_type": "code",
   "execution_count": 16,
   "metadata": {
    "colab": {
     "base_uri": "https://localhost:8080/",
     "height": 272
    },
    "id": "UcBTbBP97b3L",
    "outputId": "e79c1f5a-d23c-4a2e-c2cd-951a4a5a506f"
   },
   "outputs": [
    {
     "data": {
      "text/plain": [
       "film_name        0\n",
       "gender           0\n",
       "film_avg_rate    0\n",
       "review_rate      2\n",
       "review_title     0\n",
       "review_text      0\n",
       "dtype: int64"
      ]
     },
     "execution_count": 16,
     "metadata": {},
     "output_type": "execute_result"
    }
   ],
   "source": [
    "combined_df.isna().sum()"
   ]
  },
  {
   "cell_type": "code",
   "execution_count": 17,
   "metadata": {
    "id": "iHV2Xso78AfH"
   },
   "outputs": [],
   "source": [
    "combined_df.dropna(inplace=True)"
   ]
  },
  {
   "cell_type": "code",
   "execution_count": 18,
   "metadata": {
    "colab": {
     "base_uri": "https://localhost:8080/",
     "height": 272
    },
    "id": "wJzvA_Pp8CQx",
    "outputId": "d72aa536-0854-460a-c8d2-239f82376f20"
   },
   "outputs": [
    {
     "data": {
      "text/plain": [
       "film_name        0\n",
       "gender           0\n",
       "film_avg_rate    0\n",
       "review_rate      0\n",
       "review_title     0\n",
       "review_text      0\n",
       "dtype: int64"
      ]
     },
     "execution_count": 18,
     "metadata": {},
     "output_type": "execute_result"
    }
   ],
   "source": [
    "combined_df.isna().sum()"
   ]
  },
  {
   "cell_type": "markdown",
   "metadata": {
    "id": "rrY1xG1g73YP"
   },
   "source": [
    "## NORMALIZACIÓN DE LOS DATOS"
   ]
  },
  {
   "cell_type": "code",
   "execution_count": 36,
   "metadata": {
    "colab": {
     "base_uri": "https://localhost:8080/"
    },
    "id": "cm4_4n4c71kG",
    "outputId": "88116de5-784a-4d19-f0fe-070b7c2e3300"
   },
   "outputs": [
    {
     "name": "stderr",
     "output_type": "stream",
     "text": [
      "c:\\Users\\Ryzen\\AppData\\Local\\Programs\\Python\\Python312\\Lib\\site-packages\\spacy\\util.py:910: UserWarning: [W095] Model 'es_core_news_sm' (3.8.0) was trained with spaCy v3.8.0 and may not be 100% compatible with the current version (3.7.6). If you see errors or degraded performance, download a newer compatible model or retrain your custom model with the current spaCy version. For more details and available updates, run: python -m spacy validate\n",
      "  warnings.warn(warn_msg)\n"
     ]
    }
   ],
   "source": [
    "nlp = spacy.load('es_core_news_sm')"
   ]
  },
  {
   "cell_type": "code",
   "execution_count": 37,
   "metadata": {
    "id": "BA7LPPXg3OeD"
   },
   "outputs": [],
   "source": [
    "def tokenization(texto):\n",
    "  doc = nlp(texto)\n",
    "  tokens = [token.text.lower() for token in doc]\n",
    "  return tokens"
   ]
  },
  {
   "cell_type": "code",
   "execution_count": 38,
   "metadata": {
    "id": "23aQPCkx3kIJ"
   },
   "outputs": [],
   "source": [
    "def delete_stopwords(tokens):\n",
    "  filter_tokens = [token for token in tokens if not token.is_punct and not token.is_stop]\n",
    "  return filter_tokens"
   ]
  },
  {
   "cell_type": "code",
   "execution_count": 39,
   "metadata": {
    "id": "SEiYbm653kF7"
   },
   "outputs": [],
   "source": [
    "def lemmatization(tokens):\n",
    "  lemmas = [token.lemma_ for token in tokens]\n",
    "  return lemmas"
   ]
  },
  {
   "cell_type": "code",
   "execution_count": 40,
   "metadata": {
    "id": "XVty1DAj3kDZ"
   },
   "outputs": [],
   "source": [
    "def normalization(doc):\n",
    "  tokens = tokenization(doc)\n",
    "  tokens = nlp(' '.join(tokens))\n",
    "  tokens = delete_stopwords(tokens)\n",
    "  tokens = lemmatization(tokens)\n",
    "  return tokens"
   ]
  },
  {
   "cell_type": "code",
   "execution_count": 41,
   "metadata": {
    "colab": {
     "base_uri": "https://localhost:8080/",
     "height": 458
    },
    "id": "hgIUL04-4L-P",
    "outputId": "e79582ab-b4a8-439c-d510-8b505362b468"
   },
   "outputs": [
    {
     "data": {
      "text/plain": [
       "0                                               [respirar]\n",
       "1                             [serie, llamar, tonto, cara]\n",
       "2                                               [respirar]\n",
       "3                                              [imposible]\n",
       "4                                         [serie, nefasto]\n",
       "                               ...                        \n",
       "18656                                          [magnífico]\n",
       "18657    [bombo, español, cualquiera, extranjero, media...\n",
       "18658                                [quitar, sabor, boca]\n",
       "18659                                      [isla, español]\n",
       "18660                              [perdonir, inteligente]\n",
       "Name: review_title, Length: 18659, dtype: object"
      ]
     },
     "execution_count": 41,
     "metadata": {},
     "output_type": "execute_result"
    }
   ],
   "source": [
    "combined_df['review_title'].apply(normalization)"
   ]
  },
  {
   "cell_type": "code",
   "execution_count": 42,
   "metadata": {
    "colab": {
     "base_uri": "https://localhost:8080/",
     "height": 458
    },
    "id": "hnNLcBtv4iT0",
    "outputId": "f75aff3b-f13e-4890-d992-02eb71b3a4a9"
   },
   "outputs": [
    {
     "data": {
      "text/plain": [
       "0        [fan, serie, español, najwa, doler, serie, mal...\n",
       "1        [malo, serie, poseer, respirar, diálogo, penos...\n",
       "2        [serie, drama, médico, intentar, copiar, estil...\n",
       "3        [obligar, querer, dinero, público, involucrado...\n",
       "4        [serie, vergüenza, ajeno, serie, parecer, únic...\n",
       "                               ...                        \n",
       "18656    [film, serio, interpretación, estelar, fotogra...\n",
       "18657    [esperar, guión, visto, novedoso, absoluto, pr...\n",
       "18658    [cuerpo, sensación, finalizar, historia, inter...\n",
       "18659    [añadir, comentario, guión, pésimo, actuación,...\n",
       "18660    [película, cine, entusiasmo, prometer, sesión,...\n",
       "Name: review_text, Length: 18659, dtype: object"
      ]
     },
     "execution_count": 42,
     "metadata": {},
     "output_type": "execute_result"
    }
   ],
   "source": [
    "combined_df['review_text'].apply(normalization)"
   ]
  },
  {
   "cell_type": "code",
   "execution_count": 45,
   "metadata": {
    "id": "TxwSZwzOX1ZQ"
   },
   "outputs": [],
   "source": [
    "combined_df.to_csv('../data/clean_data.csv', index=False)"
   ]
  },
  {
   "cell_type": "code",
   "execution_count": null,
   "metadata": {
    "id": "1ubU6OuFYAsE"
   },
   "outputs": [],
   "source": []
  }
 ],
 "metadata": {
  "colab": {
   "provenance": []
  },
  "kernelspec": {
   "display_name": "Python 3",
   "name": "python3"
  },
  "language_info": {
   "codemirror_mode": {
    "name": "ipython",
    "version": 3
   },
   "file_extension": ".py",
   "mimetype": "text/x-python",
   "name": "python",
   "nbconvert_exporter": "python",
   "pygments_lexer": "ipython3",
   "version": "3.12.3"
  }
 },
 "nbformat": 4,
 "nbformat_minor": 0
}
